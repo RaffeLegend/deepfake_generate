{
 "cells": [
  {
   "cell_type": "code",
   "execution_count": 2,
   "metadata": {},
   "outputs": [],
   "source": [
    "import os\n",
    "from openai import OpenAI\n",
    "import openai\n",
    "from PIL import Image\n",
    "import base64"
   ]
  },
  {
   "cell_type": "code",
   "execution_count": 3,
   "metadata": {},
   "outputs": [],
   "source": [
    "os.environ[\"OPENAI_API_KEY\"] = \"sk-6OyTxsQcuf5tBz4w221b5822EfA143539f03A7F7BaB778D4\"\n",
    "os.environ[\"OPENAI_BASE_URL\"] = \"https://api.xiaoai.plus/v1\"\n",
    "\n",
    "client = OpenAI()\n",
    "\n",
    "GPT_MODEL = \"gpt-4o\"\n",
    "\n",
    "prompt = \"Generates prompt that is inspirational and suggestive, it can be used to recreate an uploaded image exactly\"\n",
    "# prompt = \"Carefully analyze the provided image and generate an exhaustive description that captures every element essential for its recreation. Detail the spatial arrangement, key subjects, and any background elements. Specify the color palette, noting any gradients or unique shades present. Describe any actions or interactions between subjects, and capture the mood or atmosphere effectively. Your description should be precise and comprehensive, enabling an artist or a generative model to replicate the image with high fidelity based on your text alone.\""
   ]
  },
  {
   "cell_type": "code",
   "execution_count": 4,
   "metadata": {},
   "outputs": [],
   "source": [
    "# Encode the image at the given path to a base64 string\n",
    "def encode_image(image_path):\n",
    "    with open(image_path, \"rb\") as image_file:\n",
    "        return base64.b64encode(image_file.read()).decode('utf-8')\n",
    "\n",
    "# Get the base64 encoded description of an image at the given path\n",
    "def get_image_description(image_path):\n",
    "    encoded_image = encode_image(image_path)\n",
    "    return encoded_image\n",
    "\n",
    "# Generate a detailed description of the image using GPT-4\n",
    "def generate_description_with_gpt(base64_image, prompt):\n",
    "    response = client.chat.completions.create(\n",
    "        model=GPT_MODEL,\n",
    "        messages=[\n",
    "            {\n",
    "                \"role\": \"user\",\n",
    "                \"content\": [\n",
    "                    {\n",
    "                        \"type\": \"text\",\n",
    "                        \"text\": prompt,\n",
    "                    },\n",
    "                    {\n",
    "                        \"type\": \"image_url\",\n",
    "                        \"image_url\": {\n",
    "                            \"url\": f\"data:image/png;base64,{base64_image}\"\n",
    "                        }\n",
    "                    },\n",
    "                ]\n",
    "            }\n",
    "        ],\n",
    "        stream=False,\n",
    "        max_tokens=300,\n",
    "    )\n",
    "    summary = response.choices[0].message.content.strip()\n",
    "    return summary \n",
    "\n",
    "# Process a list of image paths and generate descriptions for each\n",
    "def process_images(image_paths):\n",
    "    descriptions = []\n",
    "    for image_path in image_paths:\n",
    "        image_description = get_image_description(image_path)\n",
    "        description = generate_description_with_gpt(image_description, prompt)\n",
    "        descriptions.append(description)\n",
    "    return descriptions"
   ]
  },
  {
   "cell_type": "code",
   "execution_count": null,
   "metadata": {},
   "outputs": [],
   "source": [
    "def get_images_path(set_path):\n",
    "\n",
    "    file_paths = []\n",
    "\n",
    "    for root, _, files in os.walk(set_path):\n",
    "        for file in files:\n",
    "            file_paths.append(os.path.join(root, file))\n",
    "\n",
    "    return file_paths"
   ]
  },
  {
   "cell_type": "code",
   "execution_count": 5,
   "metadata": {},
   "outputs": [
    {
     "name": "stdout",
     "output_type": "stream",
     "text": [
      "Description for image 1: The image captures a scene featuring two lions on a grassy savanna. Here is a detailed description:\n",
      "\n",
      "### Key Subjects:\n",
      "1. **Male Lion:**\n",
      "   - **Position and Action:** The male lion is mounted on the female lion from behind, suggestive of mating behavior.\n",
      "   - **Appearance:** The male lion has a large, full mane that is a rich golden-brown color, with highlights of darker brown. His facial expression is open-mouthed, bearing teeth, and resembling a snarl or roar. His eyes are partially closed, emphasizing the ferocity or intensity of his expression.\n",
      "\n",
      "2. **Female Lion:**\n",
      "   - **Position and Action:** The female lion is lying on the ground on her stomach. She appears calm, with her front paws stretched out in front of her, her head upright, and her eyes open wide, staring directly into the camera.\n",
      "   - **Appearance:** The female lion's coat is a light golden-tan color. Her expression is somewhat neutral or resigned, contrasting with the male's aggressive demeanor.\n",
      "\n",
      "### Spatial Arrangement:\n",
      "The two lions are centrally positioned in the foreground. The grass beneath them is a mixture of green and brown, showing signs of both lushness and dryness. The female lion’s body occupies the lower center of the image, and the male lion's body is positioned above and behind her.\n",
      "\n",
      "### Background Elements:\n",
      "- **Vegetation:** The background is predominantly comprised of grassy plains with some scattered green and dried plants. There are\n",
      "Description for image 2: The image features a person standing on a stage, drenched in a vivid green slime. \n",
      "\n",
      "1. **Key Subject (Person and Outfit)**:\n",
      "   - A person is at the center of the image, having been doused in green slime that covers their hair and much of their torso.\n",
      "   - The outfit beneath the slime appears to be a bright red dress, visible through the patches where the slime is less concentrated.\n",
      "   - Their arms are bent at the elbows, with one hand positioned over the other around waist height.\n",
      "\n",
      "2. **Green Slime**:\n",
      "   - The green slime is of a thick, gooey consistency, covering much of the person’s body, including the hair and shoulders.\n",
      "   - Slime splatters are also seen around the person, sticking to their arms and dress.\n",
      "   - A live-action effect is suggested by the slime mid-air, captured in motion, indicating it was freshly poured/dumped.\n",
      "\n",
      "3. **Background**:\n",
      "   - The background shows a gradient from deep blue on the left, transitioning to a lighter purple shade on the right.\n",
      "   - Splattered sli\n",
      "Description for image 3: The image presents a detailed mosaic artwork with a central roundel surrounded by an outer ring divided into segments. Here is a thorough breakdown:\n",
      "\n",
      "1. **Central Roundel**:\n",
      "      - The central area features an intricate design with human figures and a mix of geometric patterns. \n",
      "      - The colors used predominantly include shades of brown, maroon, beige, and white.\n",
      "      - The primary figures in this roundel appear to be dressed in garments with distinct patterns, including stripes and star motifs. The overall style resembles ancient or medieval mosaics. \n",
      "\n",
      "2. **Outer Ring**:\n",
      "      - Surrounding the central roundel is a ring divided into 12 segments.\n",
      "      - Each segment contains different depictions of animals, human figures, or mythical creatures. \n",
      "      - Some segments include text written in what appears to be Hebrew script.\n",
      "      - The color palette used in this outer ring includes shades of brown, beige, maroon, and hints of dark green.\n",
      "      - There are various representations, such as a fish, human characters, an animal resembling a lion, and more abstract figures.\n",
      "\n",
      "3. **Background and Border**:\n",
      "      - The entire mosaic is set against a beige background, which is the color of the mosaic's tiling.\n",
      "      - The border is circular with a braided or rope-like pattern in a brownish-maroon color that outlines the central and outer sections.\n",
      "      - Intricate corner decorations or spandrels within the circular frame further enhance the ornate appearance.\n",
      "\n",
      "4\n"
     ]
    }
   ],
   "source": [
    "if __name__ == \"__main__\":\n",
    "    set_path = \"./images\"\n",
    "    image_paths = get_images_path(set_path)\n",
    "    descriptions = process_images(image_paths)\n",
    "    for i, description in enumerate(descriptions):\n",
    "        print(f\"Description for image {i+1}: {description}\")"
   ]
  },
  {
   "cell_type": "code",
   "execution_count": null,
   "metadata": {},
   "outputs": [],
   "source": []
  }
 ],
 "metadata": {
  "kernelspec": {
   "display_name": "Python 3",
   "language": "python",
   "name": "python3"
  },
  "language_info": {
   "codemirror_mode": {
    "name": "ipython",
    "version": 3
   },
   "file_extension": ".py",
   "mimetype": "text/x-python",
   "name": "python",
   "nbconvert_exporter": "python",
   "pygments_lexer": "ipython3",
   "version": "3.9.undefined"
  }
 },
 "nbformat": 4,
 "nbformat_minor": 2
}
